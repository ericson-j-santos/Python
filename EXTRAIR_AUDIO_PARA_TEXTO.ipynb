{
  "nbformat": 4,
  "nbformat_minor": 0,
  "metadata": {
    "colab": {
      "provenance": [],
      "mount_file_id": "1G-ZV1FM9fik1LHUBrDvjFRtn5ijJyABU",
      "authorship_tag": "ABX9TyP9j/a7J8Mhh+f+OO/jDY2C",
      "include_colab_link": true
    },
    "kernelspec": {
      "name": "python3",
      "display_name": "Python 3"
    },
    "language_info": {
      "name": "python"
    }
  },
  "cells": [
    {
      "cell_type": "markdown",
      "metadata": {
        "id": "view-in-github",
        "colab_type": "text"
      },
      "source": [
        "<a href=\"https://colab.research.google.com/github/ericson-j-santos/Python/blob/master/EXTRAIR_AUDIO_PARA_TEXTO.ipynb\" target=\"_parent\"><img src=\"https://colab.research.google.com/assets/colab-badge.svg\" alt=\"Open In Colab\"/></a>"
      ]
    },
    {
      "cell_type": "code",
      "execution_count": 1,
      "metadata": {
        "colab": {
          "base_uri": "https://localhost:8080/"
        },
        "id": "ByzLBX28AxaE",
        "outputId": "55775ddc-644c-4007-af76-56b920cce19c"
      },
      "outputs": [
        {
          "output_type": "stream",
          "name": "stdout",
          "text": [
            "Collecting SpeechRecognition\n",
            "  Downloading SpeechRecognition-3.10.0-py2.py3-none-any.whl (32.8 MB)\n",
            "\u001b[2K     \u001b[90m━━━━━━━━━━━━━━━━━━━━━━━━━━━━━━━━━━━━━━━━\u001b[0m \u001b[32m32.8/32.8 MB\u001b[0m \u001b[31m22.3 MB/s\u001b[0m eta \u001b[36m0:00:00\u001b[0m\n",
            "\u001b[?25hCollecting pydub\n",
            "  Downloading pydub-0.25.1-py2.py3-none-any.whl (32 kB)\n",
            "Requirement already satisfied: requests>=2.26.0 in /usr/local/lib/python3.10/dist-packages (from SpeechRecognition) (2.31.0)\n",
            "Requirement already satisfied: charset-normalizer<4,>=2 in /usr/local/lib/python3.10/dist-packages (from requests>=2.26.0->SpeechRecognition) (3.2.0)\n",
            "Requirement already satisfied: idna<4,>=2.5 in /usr/local/lib/python3.10/dist-packages (from requests>=2.26.0->SpeechRecognition) (3.4)\n",
            "Requirement already satisfied: urllib3<3,>=1.21.1 in /usr/local/lib/python3.10/dist-packages (from requests>=2.26.0->SpeechRecognition) (1.26.16)\n",
            "Requirement already satisfied: certifi>=2017.4.17 in /usr/local/lib/python3.10/dist-packages (from requests>=2.26.0->SpeechRecognition) (2023.7.22)\n",
            "Installing collected packages: pydub, SpeechRecognition\n",
            "Successfully installed SpeechRecognition-3.10.0 pydub-0.25.1\n"
          ]
        }
      ],
      "source": [
        "pip install SpeechRecognition pydub\n"
      ]
    },
    {
      "cell_type": "code",
      "source": [
        "import speech_recognition as sr\n",
        "from pydub import AudioSegment\n",
        "\n",
        "# Crie um objeto Recognizer\n",
        "recognizer = sr.Recognizer()\n",
        "\n",
        "# Caminho para o arquivo OGG\n",
        "ogg_file_path = \"/content/sample_data/WhatsApp Ptt 2023-08-04 at 15.42.25.ogg\"\n",
        "\n",
        "# Carregue o arquivo OGG usando pydub\n",
        "audio = AudioSegment.from_ogg(ogg_file_path)\n",
        "\n",
        "# Converta o áudio para o formato WAV\n",
        "wav_file_path = \"/content/sample_data/temporary_file.wav\" # Caminho temporário\n",
        "audio.export(wav_file_path, format=\"wav\")\n",
        "\n",
        "# Abra o arquivo WAV\n",
        "with sr.AudioFile(wav_file_path) as source:\n",
        "    audio_data = recognizer.record(source) # Carregue o áudio no objeto Recognizer\n",
        "\n",
        "# Tente reconhecer o áudio usando o Google Web Speech API\n",
        "try:\n",
        "    text = recognizer.recognize_google(audio_data, language=\"pt-BR\")\n",
        "    print(\"Transcrição do Áudio: \", text)\n",
        "except sr.UnknownValueError:\n",
        "    print(\"O Google Web Speech API não entendeu o áudio.\")\n",
        "except sr.RequestError:\n",
        "    print(\"Houve um problema ao fazer a solicitação ao Google Web Speech API.\")\n"
      ],
      "metadata": {
        "colab": {
          "base_uri": "https://localhost:8080/"
        },
        "id": "Jm9O4dlbEHa_",
        "outputId": "0077fcc7-594e-4375-a46b-ea0737a1da8a"
      },
      "execution_count": 4,
      "outputs": [
        {
          "output_type": "stream",
          "name": "stdout",
          "text": [
            "Transcrição do Áudio:  em se tratando de uma disputa na hegemônica é muito difícil pensar em Pontos propositivos que aproximam esses países né negociações propositivas que aproximem ambos os países posto que se trata da importância que se tem né que os Estados Unidos atribuem né a sua capacidade de manter o sistema internacional de governar o sistema internacional né então a gente nota que são poucos os pontos que podem ser pensados de aproximação na verdade a gente vê em quase na totalidade pontos de divergência né como mencionei na resposta anterior é muito difícil pensar elementos propositivos no entanto Talvez né E somente talvez no que diz respeito a governança ambiental em termos de mudanças climáticas podem ser um ponto de convergência Entre esses países né dado que a China tem um grande programa né que tá no seu plano Quinca de nos próximos 10 anos né liderar um processo de renovação tecnológica uma mudança tecnológica em favor de um conjunto de tecnologias mais limpas né alguns projetos pilotos já puderam ser observados tanto em Beijing né como em outras cidades que vão é eu acho que a chance é né que se tem essa mudança também e os Estados Unidos estão tentando liderar essa pauta também de mudanças climáticas principalmente durante o governo Bayer durante o governo trump e isso ficou colocado de lado mas novamente isso é muito perene Porque existe aí a chance de retorno do tchan é o governo e com isso me dá esses esforços de tentativas de convergência No que diz respeito a essa pauta ambiental\n"
          ]
        }
      ]
    }
  ]
}