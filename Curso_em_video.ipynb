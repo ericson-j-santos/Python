{
  "nbformat": 4,
  "nbformat_minor": 0,
  "metadata": {
    "colab": {
      "name": "Curso_em_video.ipynb",
      "provenance": [],
      "authorship_tag": "ABX9TyOH5EaYzhpK2dQYCpsplyqF",
      "include_colab_link": true
    },
    "kernelspec": {
      "name": "python3",
      "display_name": "Python 3"
    }
  },
  "cells": [
    {
      "cell_type": "markdown",
      "metadata": {
        "id": "view-in-github",
        "colab_type": "text"
      },
      "source": [
        "<a href=\"https://colab.research.google.com/github/ericsontakay1988/ericsontakay/blob/master/Curso_em_video.ipynb\" target=\"_parent\"><img src=\"https://colab.research.google.com/assets/colab-badge.svg\" alt=\"Open In Colab\"/></a>"
      ]
    },
    {
      "cell_type": "code",
      "metadata": {
        "colab": {
          "base_uri": "https://localhost:8080/"
        },
        "id": "ULie3PrHXZqN",
        "outputId": "7a05f7db-b400-4082-d5e4-65983c93ceb8"
      },
      "source": [
        "n1 = int(input('Digite um numero '))\r\n",
        "n2 = int(input('Digite mais um numero '))\r\n",
        "s = n1 + n2\r\n",
        "print('A Soma vale', s)"
      ],
      "execution_count": null,
      "outputs": [
        {
          "output_type": "stream",
          "text": [
            "Digite um numero 10\n",
            "Digite mais um numero 15\n",
            "A Soma vale 25\n"
          ],
          "name": "stdout"
        }
      ]
    }
  ]
}