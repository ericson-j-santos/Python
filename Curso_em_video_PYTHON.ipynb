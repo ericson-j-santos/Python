{
  "nbformat": 4,
  "nbformat_minor": 0,
  "metadata": {
    "colab": {
      "name": "Curso_em_video_PYTHON.ipynb",
      "provenance": [],
      "collapsed_sections": [],
      "authorship_tag": "ABX9TyM29p6lzZbPX9s4bOikYeQJ",
      "include_colab_link": true
    },
    "kernelspec": {
      "name": "python3",
      "display_name": "Python 3"
    }
  },
  "cells": [
    {
      "cell_type": "markdown",
      "metadata": {
        "id": "view-in-github",
        "colab_type": "text"
      },
      "source": [
        "<a href=\"https://colab.research.google.com/github/ericsontakay1988/ericsontakay/blob/master/Curso_em_video_PYTHON.ipynb\" target=\"_parent\"><img src=\"https://colab.research.google.com/assets/colab-badge.svg\" alt=\"Open In Colab\"/></a>"
      ]
    },
    {
      "cell_type": "code",
      "metadata": {
        "colab": {
          "base_uri": "https://localhost:8080/"
        },
        "id": "ULie3PrHXZqN",
        "outputId": "684bca3d-a51e-48a8-fdb2-d0da3fb763c5"
      },
      "source": [
        "n1 = int(input('Digite um numero '))\r\n",
        "n2 = int(input('Digite mais um numero '))\r\n",
        "s = n1 + n2\r\n",
        "print('A Soma vale {} e {} vale {}'.format(n1, n2, s))"
      ],
      "execution_count": 2,
      "outputs": [
        {
          "output_type": "stream",
          "text": [
            "Digite um numero 15\n",
            "Digite mais um numero 25\n",
            "A Soma vale 15 e 25 vale 40\n"
          ],
          "name": "stdout"
        }
      ]
    },
    {
      "cell_type": "markdown",
      "metadata": {
        "id": "e_lfQYcu6W4E"
      },
      "source": [
        "AULA 07 - CURSO EM VIDEO - OPERADORES"
      ]
    },
    {
      "cell_type": "markdown",
      "metadata": {
        "id": "6WTx5rZCi6yB"
      },
      "source": [
        "Ordem de precedência\r\n",
        "\r\n",
        "\r\n",
        "*   1 ()\r\n",
        "*   2 ** Potencia\r\n",
        "*   3 * / // %\r\n",
        "*   4 + -\r\n",
        "\r\n",
        "\r\n"
      ]
    },
    {
      "cell_type": "code",
      "metadata": {
        "colab": {
          "base_uri": "https://localhost:8080/"
        },
        "id": "cQq8tiTxi_bL",
        "outputId": "82a7e540-ba8b-4eea-a8d0-34edb39464e9"
      },
      "source": [
        "n1 = int(input('Digite um valor: '))\r\n",
        "n2 = int(input('Outro valor: '))\r\n",
        "s = n1 + n2\r\n",
        "m = n1 * n2\r\n",
        "d = n1 / n2\r\n",
        "di = n1 // n2\r\n",
        "e = n1 ** n2\r\n",
        "\r\n",
        "print('A soma é {}, o produto é {} e a divisao é {:.3f}'.format(s, m, d), end = ' ')\r\n",
        "# print('A soma é {}, \\n o produto é {} e a \\n divisao é {:.3f}'.format(s, m, d), end = ' ') Aqui usado \\n pra que o resultado possa pular a linha.\r\n",
        "print('Divisao inteira {} e potencia {}'.format(di, e))"
      ],
      "execution_count": 18,
      "outputs": [
        {
          "output_type": "stream",
          "text": [
            "Digite um valor: 10\n",
            "Outro valor: 5\n",
            "A soma é 15, o produto é 50 e a divisao é 2.000 Divisao inteira 2 e potencia 100000\n"
          ],
          "name": "stdout"
        }
      ]
    },
    {
      "cell_type": "markdown",
      "metadata": {
        "id": "cwrDSgCT5RYA"
      },
      "source": [
        "**Desafio 05**\r\n",
        "\r\n",
        "Faça um programa que leia um numero interio e mostre o seu sucessor e o seu antecessor."
      ]
    },
    {
      "cell_type": "code",
      "metadata": {
        "colab": {
          "base_uri": "https://localhost:8080/"
        },
        "id": "B9M_Mmki5AFq",
        "outputId": "cf6bb3d7-82fe-4c8a-fc15-823326e724f2"
      },
      "source": [
        "n = int(input('Digite um número: '))\r\n",
        "na = n - 1\r\n",
        "ns = n + 1\r\n",
        "print('O numero é {}, o seu antecessor é {} e o seu sucessor é {}'.format(n, na, ns))"
      ],
      "execution_count": 19,
      "outputs": [
        {
          "output_type": "stream",
          "text": [
            "Digite um número: 10\n",
            "O numero é 10, o seu antecessor é 9 e o seu sucessor é 11\n"
          ],
          "name": "stdout"
        }
      ]
    },
    {
      "cell_type": "markdown",
      "metadata": {
        "id": "Rl4Qeqru5fhE"
      },
      "source": [
        "\r\n",
        "**Desafio 06**\r\n",
        "\r\n",
        "\r\n",
        "Crie um algoritmo que leia um número e mostre o seu dobro, triplo e raiz quadrada."
      ]
    },
    {
      "cell_type": "code",
      "metadata": {
        "colab": {
          "base_uri": "https://localhost:8080/"
        },
        "id": "PWJ-7RNg73zB",
        "outputId": "b44a1373-5217-4b40-d260-b1479657bfa0"
      },
      "source": [
        "n = int(input('Digite um número: '))\r\n",
        "nd = n * 2\r\n",
        "nt = n * 3\r\n",
        "nr = n ** 0.5\r\n",
        "print(f'\\n O dobro do numero digitado é {nd}, o triplo é {nt} e a raiz quadrada é {nr} \\n')"
      ],
      "execution_count": 20,
      "outputs": [
        {
          "output_type": "stream",
          "text": [
            "Digite um número: 9\n",
            "\n",
            " O dobro do numero digitado é 18, o triplo é 27 e a raiz quadrada é 3.0 \n",
            "\n"
          ],
          "name": "stdout"
        }
      ]
    },
    {
      "cell_type": "markdown",
      "metadata": {
        "id": "Lu8UErID5tUt"
      },
      "source": [
        "**Desafio 07**\r\n",
        "\r\n",
        "Desenvolva um programa que leia as duas notas de um aluno, calcule e mostra a sua média."
      ]
    },
    {
      "cell_type": "code",
      "metadata": {
        "colab": {
          "base_uri": "https://localhost:8080/"
        },
        "id": "SnZNx51m9_Ly",
        "outputId": "c7116b55-8792-49a8-c9ca-156caa84c248"
      },
      "source": [
        "n1 = float(input('Digita a primeira nota: '))\r\n",
        "n2 = float(input('Digite a segunda nota: '))\r\n",
        "m = (n1 + n2) / 2\r\n",
        "print(f'\\n A media das notas são {m} \\n')"
      ],
      "execution_count": 23,
      "outputs": [
        {
          "output_type": "stream",
          "text": [
            "Digita a primeira nota: 8.5\n",
            "Digite a segunda nota: 9\n",
            "\n",
            " A media das notas são 8.75 \n",
            "\n"
          ],
          "name": "stdout"
        }
      ]
    },
    {
      "cell_type": "markdown",
      "metadata": {
        "id": "275chBvo55yT"
      },
      "source": [
        "\r\n",
        "***Desafio 08***\r\n",
        "\r\n",
        "\r\n",
        "Escreva um programa que leia um valor em metros e o exiba convertido em centimetros e milimetros."
      ]
    },
    {
      "cell_type": "code",
      "metadata": {
        "colab": {
          "base_uri": "https://localhost:8080/"
        },
        "id": "yn8q5-f6_EnP",
        "outputId": "a7c1b727-6516-4845-d1d3-9cc8cc0818df"
      },
      "source": [
        "n = float(input('Digite um valor em metros: '))\r\n",
        "nc = n * 100\r\n",
        "nm = n * 1000\r\n",
        "print(f'\\n O valor digitado em metros é {n} em centimetros {nc} e milimetros {nm}')"
      ],
      "execution_count": 24,
      "outputs": [
        {
          "output_type": "stream",
          "text": [
            "Digite um valor em metros: 1\n",
            "\n",
            " O valor digitado em metros é 1.0 em centimetros 100.0 e milimetros 1000.0\n"
          ],
          "name": "stdout"
        }
      ]
    },
    {
      "cell_type": "markdown",
      "metadata": {
        "id": "LG9RdlXLBKqp"
      },
      "source": [
        "**Desafio 09**\r\n",
        "\r\n",
        "Faça um programa que leia um número Inteiro qualquer e mostre na tela a sua tabuada."
      ]
    },
    {
      "cell_type": "code",
      "metadata": {
        "colab": {
          "base_uri": "https://localhost:8080/"
        },
        "id": "14jBRXm1BVoN",
        "outputId": "de085278-75bb-49da-b30c-dabc34a5c924"
      },
      "source": [
        "n = int(input('Digite um valor para realizarmos a tabuada: '))\r\n",
        "nt1 = n * 1\r\n",
        "nt2 = n * 2\r\n",
        "nt3 = n * 3\r\n",
        "nt4 = n * 4\r\n",
        "nt5 = n * 5\r\n",
        "\r\n",
        "print(f'\\n A tabuada de {n} é \\n 8 * 1 = {nt1} \\n 8 * 2 = {nt2} \\n 8 * 3 = {nt3} \\n 8 * 4 = {nt4} \\n 8 * 5 = {nt5}')"
      ],
      "execution_count": 28,
      "outputs": [
        {
          "output_type": "stream",
          "text": [
            "Digite um valor para realizarmos a tabuada: 8\n",
            "\n",
            " A tabuada de 8 é \n",
            " 8 * 1 = 8 \n",
            " 8 * 2 = 16 \n",
            " 8 * 3 = 24 \n",
            " 8 * 4 = 32 \n",
            " 8 * 5 = 40\n"
          ],
          "name": "stdout"
        }
      ]
    }
  ]
}