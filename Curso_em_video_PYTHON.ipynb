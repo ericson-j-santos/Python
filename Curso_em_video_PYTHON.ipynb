{
  "nbformat": 4,
  "nbformat_minor": 0,
  "metadata": {
    "colab": {
      "name": "Curso_em_video.ipynb",
      "provenance": [],
      "collapsed_sections": [],
      "authorship_tag": "ABX9TyNPVrGGaxKeNhybgoPY2vJ4",
      "include_colab_link": true
    },
    "kernelspec": {
      "name": "python3",
      "display_name": "Python 3"
    }
  },
  "cells": [
    {
      "cell_type": "markdown",
      "metadata": {
        "id": "view-in-github",
        "colab_type": "text"
      },
      "source": [
        "<a href=\"https://colab.research.google.com/github/ericsontakay1988/ericsontakay/blob/master/Curso_em_video_PYTHON.ipynb\" target=\"_parent\"><img src=\"https://colab.research.google.com/assets/colab-badge.svg\" alt=\"Open In Colab\"/></a>"
      ]
    },
    {
      "cell_type": "code",
      "metadata": {
        "colab": {
          "base_uri": "https://localhost:8080/"
        },
        "id": "ULie3PrHXZqN",
        "outputId": "684bca3d-a51e-48a8-fdb2-d0da3fb763c5"
      },
      "source": [
        "n1 = int(input('Digite um numero '))\r\n",
        "n2 = int(input('Digite mais um numero '))\r\n",
        "s = n1 + n2\r\n",
        "print('A Soma vale {} e {} vale {}'.format(n1, n2, s))"
      ],
      "execution_count": 2,
      "outputs": [
        {
          "output_type": "stream",
          "text": [
            "Digite um numero 15\n",
            "Digite mais um numero 25\n",
            "A Soma vale 15 e 25 vale 40\n"
          ],
          "name": "stdout"
        }
      ]
    },
    {
      "cell_type": "markdown",
      "metadata": {
        "id": "e_lfQYcu6W4E"
      },
      "source": [
        "AULA 07 - CURSO EM VIDEO - OPERADORES"
      ]
    },
    {
      "cell_type": "markdown",
      "metadata": {
        "id": "6WTx5rZCi6yB"
      },
      "source": [
        "Ordem de precedência\r\n",
        "\r\n",
        "\r\n",
        "*   1 ()\r\n",
        "*   2 ** Potencia\r\n",
        "*   3 * / // %\r\n",
        "*   4 + -\r\n",
        "\r\n",
        "\r\n"
      ]
    },
    {
      "cell_type": "code",
      "metadata": {
        "colab": {
          "base_uri": "https://localhost:8080/"
        },
        "id": "cQq8tiTxi_bL",
        "outputId": "83f88d9c-142b-4c56-da6a-c91b1013def3"
      },
      "source": [
        "n1 = int(input('Digite um valor: '))\r\n",
        "n2 = int(input('Outro valor: '))\r\n",
        "s = n1 + n2\r\n",
        "m = n1 * n2\r\n",
        "d = n1 / n2\r\n",
        "di = n1 // n2\r\n",
        "e = n1 ** n2\r\n",
        "\r\n",
        "print('A soma é {}, o produto é {} e a divisao é {:.3f}'.format(s, m, d), end = ' ')\r\n",
        "# print('A soma é {}, \\n o produto é {} e a \\n divisao é {:.3f}'.format(s, m, d), end = ' ') Aqui usado \\n pra que o resultado possa pular a linha.\r\n",
        "print('Divisao inteira {} e potencia {}'.format(di, e))"
      ],
      "execution_count": 4,
      "outputs": [
        {
          "output_type": "stream",
          "text": [
            "Digite um valor: 15\n",
            "Outro valor: 3\n",
            "A soma é 18, o produto é 45 e a divisao é 5.000 Divisao inteira 5 e potencia 3375\n"
          ],
          "name": "stdout"
        }
      ]
    },
    {
      "cell_type": "markdown",
      "metadata": {
        "id": "cwrDSgCT5RYA"
      },
      "source": [
        "**Desafio 05**\r\n",
        "\r\n",
        "Faça um programa que leia um numero interio e mostre o seu sucessor e o seu antecessor."
      ]
    },
    {
      "cell_type": "code",
      "metadata": {
        "id": "B9M_Mmki5AFq",
        "outputId": "7db3fcd2-879f-449c-8fc0-05b63c0c6d0a",
        "colab": {
          "base_uri": "https://localhost:8080/"
        }
      },
      "source": [
        "n = int(input('Digite um número: '))\r\n",
        "na = n - 1\r\n",
        "ns = n + 1\r\n",
        "print('O numero é {}, o seu antecessor é {} e o seu sucessor é {}'.format(n, na, ns))"
      ],
      "execution_count": 7,
      "outputs": [
        {
          "output_type": "stream",
          "text": [
            "Digita um numero: 5\n",
            "O numero é 5, o seu antecessor é 4 e o seu sucessor é 6\n"
          ],
          "name": "stdout"
        }
      ]
    },
    {
      "cell_type": "markdown",
      "metadata": {
        "id": "Rl4Qeqru5fhE"
      },
      "source": [
        "\r\n",
        "**Desafio 06**\r\n",
        "\r\n",
        "\r\n",
        "Crie um algoritmo que leia um número e mostre o seu dobro, triplo e raiz quadrada."
      ]
    },
    {
      "cell_type": "code",
      "metadata": {
        "id": "PWJ-7RNg73zB",
        "outputId": "fe987f70-6b19-481d-978f-8a82127fae53",
        "colab": {
          "base_uri": "https://localhost:8080/"
        }
      },
      "source": [
        "n = int(input('Digite um número: '))\r\n",
        "nd = n * 2\r\n",
        "nt = n * 3\r\n",
        "nr = n ** 0.5\r\n",
        "print(f'\\n O dobro do numero digitado é {nd}, o triplo é {nt} e a raiz quadrada é {nr} \\n')"
      ],
      "execution_count": 12,
      "outputs": [
        {
          "output_type": "stream",
          "text": [
            "Digite um número: 5\n",
            "\n",
            " O dobro do numero digitado é 10, o triplo é 15 e a raiz quadrada é 2.23606797749979 \n",
            "\n"
          ],
          "name": "stdout"
        }
      ]
    },
    {
      "cell_type": "markdown",
      "metadata": {
        "id": "Lu8UErID5tUt"
      },
      "source": [
        "**Desafio 07**\r\n",
        "\r\n",
        "Desenvolva um programa que leia as duas notas de um aluno, calcule e mostra a sua média."
      ]
    },
    {
      "cell_type": "markdown",
      "metadata": {
        "id": "275chBvo55yT"
      },
      "source": [
        "\r\n",
        "***Desafio 08***\r\n",
        "\r\n",
        "\r\n",
        "Escreva um programa que leia um valor em metras e o exiba convertido em centimetros e milimetros."
      ]
    }
  ]
}