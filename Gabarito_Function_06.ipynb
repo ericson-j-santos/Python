{
  "cells": [
    {
      "cell_type": "markdown",
      "metadata": {
        "id": "view-in-github",
        "colab_type": "text"
      },
      "source": [
        "<a href=\"https://colab.research.google.com/github/ericsontakay1988/Python/blob/master/Gabarito_Function_06.ipynb\" target=\"_parent\"><img src=\"https://colab.research.google.com/assets/colab-badge.svg\" alt=\"Open In Colab\"/></a>"
      ]
    },
    {
      "cell_type": "markdown",
      "metadata": {
        "id": "TX6J5AATf2j6"
      },
      "source": [
        "# Valores Padrões para os argumentos\n",
        "\n",
        "### Estrutura\n",
        "\n",
        "- Nesse caso, você não é obrigado a passar o valor para usar a função, pode usar o valor padrão."
      ]
    },
    {
      "cell_type": "raw",
      "metadata": {
        "id": "R7KXX0q_f2j_"
      },
      "source": [
        "def minha_funcao(argumento = valor_padrao):\n",
        "    ...\n",
        "    return ..."
      ]
    },
    {
      "cell_type": "markdown",
      "metadata": {
        "id": "z9ovUV8Kf2kA"
      },
      "source": [
        "- Como vimos, o sort() para listas tem um argumento padrão. O reverse = False é padrão, então a ordem é crescente. Caso o usuário queira fazer em ordem decrescente, o reverse deve ser alterado para True"
      ]
    },
    {
      "cell_type": "code",
      "execution_count": null,
      "metadata": {
        "id": "uuHEBWOAf2kA",
        "outputId": "d32fe92c-7772-40e4-82a7-a455bf14b38e"
      },
      "outputs": [
        {
          "name": "stdout",
          "output_type": "stream",
          "text": [
            "['airpods', 'apple tv', 'apple watch', 'iPad', 'iphone x', 'mac', 'mac book']\n",
            "['mac book', 'mac', 'iphone x', 'iPad', 'apple watch', 'apple tv', 'airpods']\n"
          ]
        }
      ],
      "source": [
        "produtos = ['apple tv', 'mac', 'iphone x', 'iPad', 'apple watch', 'mac book', 'airpods']\n",
        "\n",
        "produtos.sort()\n",
        "print(produtos)\n",
        "\n",
        "produtos.sort(reverse = True)\n",
        "print(produtos)"
      ]
    },
    {
      "cell_type": "markdown",
      "metadata": {
        "id": "XGgeon8Kf2kD"
      },
      "source": [
        "- Vamos criar uma função que padronize códigos de produtos. O default será padronizar os códigos para letras minúsculas (dado por 'm'), mas se o usuário quiser pode padronizar para maiúscula, dado por ('M')."
      ]
    },
    {
      "cell_type": "code",
      "execution_count": null,
      "metadata": {
        "id": "o7WfL-Huf2kD",
        "outputId": "56922aa8-e6a6-47c6-d2cc-55bdaebcac69"
      },
      "outputs": [
        {
          "name": "stdout",
          "output_type": "stream",
          "text": [
            "['abc12', 'abc34', 'abc37']\n"
          ]
        }
      ],
      "source": [
        "def padronizar_codigos(lista_codigos, padrao='m'):\n",
        "    for i, item in enumerate(lista_codigos):\n",
        "        item = item.replace('  ', ' ')\n",
        "        item = item.strip()\n",
        "        if padrao == 'm':\n",
        "            item = item.casefold()\n",
        "        elif padrao == 'M':\n",
        "            item = item.upper()\n",
        "        lista_codigos[i] = item\n",
        "    return lista_codigos\n",
        "\n",
        "\n",
        "cod_produtos = [' ABC12 ', 'abc34', 'AbC37']\n",
        "print(padronizar_codigos(cod_produtos))"
      ]
    },
    {
      "cell_type": "code",
      "execution_count": null,
      "metadata": {
        "id": "bZ02hpEcf2kE",
        "outputId": "20ca420a-688c-4e8b-fddc-99ee7d1daf86"
      },
      "outputs": [
        {
          "name": "stdout",
          "output_type": "stream",
          "text": [
            "[10, 20, 30]\n"
          ]
        }
      ],
      "source": []
    }
  ],
  "metadata": {
    "kernelspec": {
      "display_name": "Python 3",
      "language": "python",
      "name": "python3"
    },
    "language_info": {
      "codemirror_mode": {
        "name": "ipython",
        "version": 3
      },
      "file_extension": ".py",
      "mimetype": "text/x-python",
      "name": "python",
      "nbconvert_exporter": "python",
      "pygments_lexer": "ipython3",
      "version": "3.8.3"
    },
    "colab": {
      "name": "Gabarito - Function 06.ipynb",
      "provenance": [],
      "include_colab_link": true
    }
  },
  "nbformat": 4,
  "nbformat_minor": 0
}