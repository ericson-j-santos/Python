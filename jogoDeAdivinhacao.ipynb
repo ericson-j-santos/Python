{
  "nbformat": 4,
  "nbformat_minor": 0,
  "metadata": {
    "colab": {
      "name": "jogoDeAdivinhacao.ipynb",
      "provenance": [],
      "authorship_tag": "ABX9TyPXoDrBI/MHUXebKtWYJ6ql",
      "include_colab_link": true
    },
    "kernelspec": {
      "name": "python3",
      "display_name": "Python 3"
    },
    "language_info": {
      "name": "python"
    }
  },
  "cells": [
    {
      "cell_type": "markdown",
      "metadata": {
        "id": "view-in-github",
        "colab_type": "text"
      },
      "source": [
        "<a href=\"https://colab.research.google.com/github/ericsontakay1988/Python/blob/master/jogoDeAdivinhacao.ipynb\" target=\"_parent\"><img src=\"https://colab.research.google.com/assets/colab-badge.svg\" alt=\"Open In Colab\"/></a>"
      ]
    },
    {
      "cell_type": "code",
      "metadata": {
        "id": "WDTRfxcwroOp"
      },
      "source": [
        ""
      ],
      "execution_count": null,
      "outputs": []
    },
    {
      "cell_type": "code",
      "metadata": {
        "colab": {
          "base_uri": "https://localhost:8080/"
        },
        "id": "VArw0vbMsN6g",
        "outputId": "b5a3d951-752a-4853-f0d9-dec69164c2a6"
      },
      "source": [
        "import random\n",
        "\n",
        "def jogar():\n",
        "\n",
        "    print(\"*********************************\")\n",
        "    print(\"Bem vindo ao jogo de Adivinhação!\")\n",
        "    print(\"*********************************\")\n",
        "\n",
        "    numero_secreto = random.randrange(1,101)\n",
        "    total_de_tentativas = 0\n",
        "    pontos = 1000\n",
        "\n",
        "    print(\"Qual nível de dificuldade?\")\n",
        "    print(\"(1) Fácil (2) Médio (3) Difícil\")\n",
        "\n",
        "    nivel = int(input(\"Defina o nível: \"))\n",
        "\n",
        "    if(nivel == 1):\n",
        "        total_de_tentativas = 20\n",
        "    elif(nivel == 2):\n",
        "        total_de_tentativas = 10\n",
        "    else:\n",
        "        total_de_tentativas = 5\n",
        "\n",
        "    for rodada in range(1, total_de_tentativas + 1):\n",
        "        print(\"Tentativa {} de {}\".format(rodada, total_de_tentativas))\n",
        "\n",
        "        chute_str = input(\"Digite um número entre 1 e 100: \")\n",
        "        print(\"Você digitou \" , chute_str)\n",
        "        chute = int(chute_str)\n",
        "\n",
        "        if(chute < 1 or chute > 100):\n",
        "            print(\"Você deve digitar um número entre 1 e 100!\")\n",
        "            continue\n",
        "\n",
        "        acertou = chute == numero_secreto\n",
        "        maior   = chute > numero_secreto\n",
        "        menor   = chute < numero_secreto\n",
        "\n",
        "        if(acertou):\n",
        "            print(\"Você acertou e fez {} pontos!\".format(pontos))\n",
        "            break\n",
        "        else:\n",
        "            if(maior):\n",
        "                print(\"Você errou! O seu chute foi maior do que o número secreto.\")\n",
        "            elif(menor):\n",
        "                print(\"Você errou! O seu chute foi menor do que o número secreto.\")\n",
        "            pontos_perdidos = abs(numero_secreto - chute)\n",
        "            pontos = pontos - pontos_perdidos\n",
        "\n",
        "    print(\"Fim do jogo\")\n",
        "\n",
        "if(__name__ == \"__main__\"):\n",
        "    jogar()\n"
      ],
      "execution_count": 2,
      "outputs": [
        {
          "output_type": "stream",
          "text": [
            "*********************************\n",
            "Bem vindo ao jogo de Adivinhação!\n",
            "*********************************\n",
            "Qual nível de dificuldade?\n",
            "(1) Fácil (2) Médio (3) Difícil\n",
            "Defina o nível: 1\n",
            "Tentativa 1 de 20\n",
            "Digite um número entre 1 e 100: 1\n",
            "Você digitou  1\n",
            "Você errou! O seu chute foi menor do que o número secreto.\n",
            "Tentativa 2 de 20\n",
            "Digite um número entre 1 e 100: 50\n",
            "Você digitou  50\n",
            "Você acertou e fez 951 pontos!\n",
            "Fim do jogo\n"
          ],
          "name": "stdout"
        }
      ]
    }
  ]
}