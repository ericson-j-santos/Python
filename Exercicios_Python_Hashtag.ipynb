{
  "nbformat": 4,
  "nbformat_minor": 0,
  "metadata": {
    "colab": {
      "name": "Exercicios_Python_Hashtag.ipynb",
      "provenance": [],
      "collapsed_sections": [],
      "authorship_tag": "ABX9TyN/fqGiWBxQoAnAGKxHMm9j",
      "include_colab_link": true
    },
    "kernelspec": {
      "name": "python3",
      "display_name": "Python 3"
    },
    "language_info": {
      "name": "python"
    }
  },
  "cells": [
    {
      "cell_type": "markdown",
      "metadata": {
        "id": "view-in-github",
        "colab_type": "text"
      },
      "source": [
        "<a href=\"https://colab.research.google.com/github/ericsontakay1988/Python/blob/master/Exercicios_Python_Hashtag.ipynb\" target=\"_parent\"><img src=\"https://colab.research.google.com/assets/colab-badge.svg\" alt=\"Open In Colab\"/></a>"
      ]
    },
    {
      "cell_type": "markdown",
      "source": [
        "Faça um Programa que mostre a mensagem \"Alo mundo\" na tela."
      ],
      "metadata": {
        "id": "anC-XXcSZJ9D"
      }
    },
    {
      "cell_type": "code",
      "source": [
        "print(\"Olá Mundo\")"
      ],
      "metadata": {
        "colab": {
          "base_uri": "https://localhost:8080/"
        },
        "id": "TqEPhw3ZZKpy",
        "outputId": "fdf1e4b3-13d5-41e4-c25f-8d9efc3ef9b4"
      },
      "execution_count": null,
      "outputs": [
        {
          "output_type": "stream",
          "name": "stdout",
          "text": [
            "Olá Mundo\n"
          ]
        }
      ]
    },
    {
      "cell_type": "markdown",
      "source": [
        "Faça um Programa que peça um número e então mostre a mensagem O número informado foi [número]."
      ],
      "metadata": {
        "id": "EJ75m49DZVKS"
      }
    },
    {
      "cell_type": "code",
      "source": [
        "n_digitado = input(\"Digite um número de 0 a 9: \")\n",
        "print(\"O número digitado foi {}\".format(n_digitado))"
      ],
      "metadata": {
        "colab": {
          "base_uri": "https://localhost:8080/"
        },
        "id": "YlG9zcT6ZXNT",
        "outputId": "6030cb5a-1081-4c45-99ab-cae98fbc0760"
      },
      "execution_count": null,
      "outputs": [
        {
          "output_type": "stream",
          "name": "stdout",
          "text": [
            "Digite um número de 0 a 9: 4\n",
            "O número digitado foi 4\n"
          ]
        }
      ]
    },
    {
      "cell_type": "markdown",
      "source": [
        "Faça um Programa que peça dois números e imprima a soma."
      ],
      "metadata": {
        "id": "o1LbLmtNZ4OD"
      }
    },
    {
      "cell_type": "code",
      "source": [
        "primeiro_numero = input(\"Digite o primeiro número: \")\n",
        "segundo_numero = input(\"Digite o segundo número: \")\n",
        "resultado = int(primeiro_numero) + int(segundo_numero)\n",
        "print(\"O resultado foi {}\".format(resultado))"
      ],
      "metadata": {
        "colab": {
          "base_uri": "https://localhost:8080/"
        },
        "id": "3qsGU2JFZ8FK",
        "outputId": "9137768e-eb0e-4072-fefe-331c4673fad7"
      },
      "execution_count": null,
      "outputs": [
        {
          "output_type": "stream",
          "name": "stdout",
          "text": [
            "Digite o primeiro número: 2\n",
            "Digite o segundo número: 2\n",
            "O resultado foi 4\n"
          ]
        }
      ]
    },
    {
      "cell_type": "markdown",
      "source": [
        "Faça um Programa que peça as 4 notas bimestrais e mostre a média."
      ],
      "metadata": {
        "id": "vV4e6BHCaldh"
      }
    },
    {
      "cell_type": "code",
      "source": [
        "primeira_nota = input(\"Digite a primeira nota: \")\n",
        "segunda_nota = input(\"Digite a segunda nota: \")\n",
        "terceira_nota = input(\"Digite a terceira nota: \")\n",
        "quarta_nota = input(\"Digite a quarta nota: \")\n",
        "media = ((int(primeira_nota) + int(segunda_nota) + int(terceira_nota) + int(quarta_nota))/ 4)\n",
        "print(\"Media foi de {}\".format(media))"
      ],
      "metadata": {
        "colab": {
          "base_uri": "https://localhost:8080/"
        },
        "id": "7kTje3Rdan2R",
        "outputId": "b965119b-9bb7-4060-b1a6-0b5b6487684b"
      },
      "execution_count": null,
      "outputs": [
        {
          "output_type": "stream",
          "name": "stdout",
          "text": [
            "Digite a primeira nota: 7\n",
            "Digite a segunda nota: 7\n",
            "Digite a terceira nota: 7\n",
            "Digite a quarta nota: 7\n",
            "Media foi de 7.0\n"
          ]
        }
      ]
    },
    {
      "cell_type": "markdown",
      "source": [
        "Faça um Programa que converta metros para centímetros."
      ],
      "metadata": {
        "id": "Zzi5RLY1bdhr"
      }
    },
    {
      "cell_type": "code",
      "source": [
        "metros = input(\"Digite o valor em metros: \")\n",
        "# 1 metro é igual a 100 centimetros\n",
        "centimetros = 100\n",
        "conversao = (int(metros) * centimetros)\n",
        "print(\"Sua conversao é {} centimetros\".format(conversao)) "
      ],
      "metadata": {
        "colab": {
          "base_uri": "https://localhost:8080/"
        },
        "id": "mbPuFAbJbyOJ",
        "outputId": "221111a0-06be-419f-b72d-697169f0b49b"
      },
      "execution_count": null,
      "outputs": [
        {
          "output_type": "stream",
          "name": "stdout",
          "text": [
            "Digite o valor em metros: 1\n",
            "Sua conversao é 100 centimetros\n"
          ]
        }
      ]
    },
    {
      "cell_type": "markdown",
      "source": [
        "Faça um Programa que peça o raio de um círculo, calcule e mostre sua área.\n"
      ],
      "metadata": {
        "id": "3O07RrmpciZa"
      }
    },
    {
      "cell_type": "code",
      "source": [
        "raio = float(input(\"Digite o raio de um circulo: \"))\n",
        "a = raio * 3.14 \n",
        "print(f'A Area do circulo é {a}')\n"
      ],
      "metadata": {
        "colab": {
          "base_uri": "https://localhost:8080/"
        },
        "id": "2jFg_wq3clLK",
        "outputId": "5ea868aa-9108-4ea4-f611-ceb758b0a6a6"
      },
      "execution_count": null,
      "outputs": [
        {
          "output_type": "stream",
          "name": "stdout",
          "text": [
            "Digite o raio de um circulo: 1\n",
            "A Area do circulo é 3.14\n"
          ]
        }
      ]
    },
    {
      "cell_type": "markdown",
      "source": [
        "Faça um Programa que calcule a área de um quadrado, em seguida mostre o dobro desta área para o usuário."
      ],
      "metadata": {
        "id": "4o7nWq6pdKPQ"
      }
    },
    {
      "cell_type": "code",
      "source": [
        "altura = float(input(\"Digite a altura do quadrado: \"))\n",
        "lado = float(input(\"Digite o lado do quadrado: \"))\n",
        "area = (float(altura) * lado) * 2\n",
        "print(f'O dobro da area do quadrado é {area}')\n"
      ],
      "metadata": {
        "colab": {
          "base_uri": "https://localhost:8080/"
        },
        "id": "Udev7Gs2dMo_",
        "outputId": "994e5eb1-5a1b-40c5-f1ff-02983460be26"
      },
      "execution_count": null,
      "outputs": [
        {
          "output_type": "stream",
          "name": "stdout",
          "text": [
            "Digite a altura do quadrado: 2\n",
            "Digite o lado do quadrado: 2\n",
            "O dobro da area do quadrado é 8.0\n"
          ]
        }
      ]
    },
    {
      "cell_type": "markdown",
      "source": [
        "Faça um Programa que pergunte quanto você ganha por hora e o número de horas trabalhadas no mês. Calcule e mostre o total do seu salário no referido mês."
      ],
      "metadata": {
        "id": "30GUweSveF9R"
      }
    },
    {
      "cell_type": "code",
      "source": [
        "horas = float(input('Qual o valor da hora trabalhada?: '))\n",
        "h_trabalhadas = float(input('Quantas horas trabalhou neste mês?: '))\n",
        "total = (float(horas * h_trabalhadas))\n",
        "print(f'O salario será de {total}')"
      ],
      "metadata": {
        "colab": {
          "base_uri": "https://localhost:8080/"
        },
        "id": "9L_tt-pneJJh",
        "outputId": "ef975124-86e7-49df-d8ee-3a828111dd4d"
      },
      "execution_count": null,
      "outputs": [
        {
          "output_type": "stream",
          "name": "stdout",
          "text": [
            "Qual o valor da hora trabalhada?: 5\n",
            "Quantas horas trabalhou neste mês?: 10\n",
            "O salario será de 50.0\n"
          ]
        }
      ]
    },
    {
      "cell_type": "markdown",
      "source": [
        "Faça um Programa que peça a temperatura em graus Fahrenheit, transforme e mostre a temperatura em graus Celsius.\n",
        "C = 5 * ((F-32) / 9)."
      ],
      "metadata": {
        "id": "8ekLpR4vfyiP"
      }
    },
    {
      "cell_type": "code",
      "source": [
        ""
      ],
      "metadata": {
        "id": "JK3snQC2f7_h"
      },
      "execution_count": null,
      "outputs": []
    }
  ]
}